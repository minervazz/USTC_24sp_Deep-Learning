{
 "cells": [
  {
   "cell_type": "markdown",
   "metadata": {},
   "source": [
    "数据集构建和预处理。"
   ]
  },
  {
   "cell_type": "code",
   "execution_count": null,
   "metadata": {},
   "outputs": [],
   "source": [
    "import pandas as pd\n",
    "from sklearn.model_selection import train_test_split\n",
    "\n",
    "# 加载数据集\n",
    "data_path = \"./data/ChnSentiCorp_htl_all.csv\"\n",
    "data = pd.read_csv(data_path, encoding='utf-8')\n",
    "\n",
    "# 数据预处理\n",
    "assert 'label' in data.columns and 'review' in data.columns, \"数据集字段缺失\"\n",
    "\n",
    "# 划分数据集\n",
    "train_data, test_data = train_test_split(data, test_size=0.2, random_state=42)\n",
    "train_data, val_data = train_test_split(train_data, test_size=0.1, random_state=42)\n",
    "\n",
    "print(f\"训练集大小: {len(train_data)}, 验证集大小: {len(val_data)}, 测试集大小: {len(test_data)}\")"
   ]
  },
  {
   "cell_type": "markdown",
   "metadata": {},
   "source": [
    "加载模型。"
   ]
  },
  {
   "cell_type": "code",
   "execution_count": null,
   "metadata": {},
   "outputs": [],
   "source": [
    "from transformers import AutoTokenizer, AutoModelForSequenceClassification\n",
    "import torch\n",
    "\n",
    "tokenizer = AutoTokenizer.from_pretrained(\"Qwen/Qwen1.5-0.5B\")\n",
    "model = AutoModelForSequenceClassification.from_pretrained(\"Qwen/Qwen1.5-0.5B\", num_labels=2)\n",
    "\n",
    "# 设置 padding token\n",
    "if tokenizer.pad_token is None:\n",
    "    tokenizer.add_special_tokens({'pad_token': '[PAD]'})\n",
    "    model.resize_token_embeddings(len(tokenizer))\n",
    "\n",
    "# 将模型移到设备（CPU或GPU）\n",
    "device = torch.device(\"cuda\" if torch.cuda.is_available() else \"cpu\")\n",
    "model.to(device)"
   ]
  },
  {
   "cell_type": "markdown",
   "metadata": {},
   "source": [
    "微调方法。"
   ]
  },
  {
   "cell_type": "code",
   "execution_count": null,
   "metadata": {},
   "outputs": [],
   "source": [
    "lora_config = {\n",
    "    \"rank\": 8,\n",
    "    \"alpha\": 16,\n",
    "    \"max_length\": 512,\n",
    "    \"method\": \"LoRA\"\n",
    "}"
   ]
  },
  {
   "cell_type": "markdown",
   "metadata": {},
   "source": [
    "prompt 设置。"
   ]
  },
  {
   "cell_type": "code",
   "execution_count": null,
   "metadata": {},
   "outputs": [],
   "source": [
    "# Prompt模板\n",
    "def create_prompt(review):\n",
    "    return f\"评论内容：{review} 这条评论是正面还是负面？\"\n",
    "\n",
    "# 创建输入输出示例\n",
    "example_review = \"这家酒店非常干净，服务也很好。\"\n",
    "print(create_prompt(example_review))"
   ]
  },
  {
   "cell_type": "markdown",
   "metadata": {},
   "source": [
    "数据集准备。"
   ]
  },
  {
   "cell_type": "code",
   "execution_count": null,
   "metadata": {},
   "outputs": [],
   "source": [
    "from torch.utils.data import Dataset, DataLoader\n",
    "\n",
    "class SentimentDataset(Dataset):\n",
    "    def __init__(self, reviews, labels, tokenizer, max_length=512):\n",
    "        self.reviews = reviews\n",
    "        self.labels = labels\n",
    "        self.tokenizer = tokenizer\n",
    "        self.max_length = max_length\n",
    "\n",
    "    def __len__(self):\n",
    "        return len(self.reviews)\n",
    "\n",
    "    def __getitem__(self, idx):\n",
    "        review = self.reviews[idx]\n",
    "        label = self.labels[idx]\n",
    "        inputs = self.tokenizer(review, max_length=self.max_length, truncation=True, padding='max_length', return_tensors=\"pt\")\n",
    "        input_ids = inputs['input_ids'].squeeze(0).to(device)\n",
    "        attention_mask = inputs['attention_mask'].squeeze(0).to(device)\n",
    "        label_tensor = torch.tensor(label, dtype=torch.long).to(device)\n",
    "\n",
    "        return {\n",
    "            'input_ids': input_ids,\n",
    "            'attention_mask': attention_mask,\n",
    "            'labels': label_tensor\n",
    "        }\n",
    "\n",
    "# 数据加载器\n",
    "train_dataset = SentimentDataset(train_data['review'].tolist(), train_data['label'].tolist(), tokenizer)\n",
    "val_dataset = SentimentDataset(val_data['review'].tolist(), val_data['label'].tolist(), tokenizer)\n",
    "test_dataset = SentimentDataset(test_data['review'].tolist(), test_data['label'].tolist(), tokenizer)\n",
    "\n",
    "train_loader = DataLoader(train_dataset, batch_size=8, shuffle=True)\n",
    "val_loader = DataLoader(val_dataset, batch_size=8)\n",
    "test_loader = DataLoader(test_dataset, batch_size=8)\n"
   ]
  },
  {
   "cell_type": "markdown",
   "metadata": {},
   "source": [
    "模型微调和训练。"
   ]
  },
  {
   "cell_type": "code",
   "execution_count": null,
   "metadata": {},
   "outputs": [],
   "source": [
    "from transformers import Trainer, TrainingArguments\n",
    "\n",
    "training_args = TrainingArguments(\n",
    "    output_dir=\"./outputs\",\n",
    "    per_device_train_batch_size=8,\n",
    "    per_device_eval_batch_size=8,\n",
    "    num_train_epochs=3,\n",
    "    eval_strategy=\"epoch\",\n",
    "    logging_dir=\"./logs\",\n",
    "    use_cpu=True  # 确保不使用 CUDA\n",
    ")\n",
    "\n",
    "# 配置模型和任务\n",
    "trainer = Trainer(\n",
    "    model=model,\n",
    "    task_name=\"text-classification\",\n",
    "    lora_config=lora_config,\n",
    "    train_dataset=train_data,\n",
    "    eval_dataset=val_dataset,\n",
    "    tokenizer=tokenizer\n",
    "    output_dir=\"./outputs\"\n",
    ")\n",
    "\n",
    "trainer.train()"
   ]
  },
  {
   "cell_type": "markdown",
   "metadata": {},
   "source": [
    "结果打印。"
   ]
  },
  {
   "cell_type": "code",
   "execution_count": null,
   "metadata": {},
   "outputs": [],
   "source": [
    "from sklearn.metrics import accuracy_score, classification_report\n",
    "\n",
    "# 假设我们有模型预测结果\n",
    "y_true = test_data['label'].tolist()\n",
    "y_pred = trainer.predict(test_data['review'].tolist())\n",
    "\n",
    "accuracy = accuracy_score(y_true, y_pred)\n",
    "print(f\"模型在测试集上的 Accuracy: {accuracy}\")\n",
    "\n",
    "# 打印详细的分类报告\n",
    "print(classification_report(y_true, y_pred))\n",
    "\n",
    "import matplotlib.pyplot as plt\n",
    "\n",
    "train_loss = trainer.state.log_history['train_loss']\n",
    "val_loss = trainer.state.log_history['eval_loss']\n",
    "\n",
    "plt.plot(train_loss, label='Train Loss')\n",
    "plt.plot(val_loss, label='Validation Loss')\n",
    "plt.xlabel('Epochs')\n",
    "plt.ylabel('Loss')\n",
    "plt.legend()\n",
    "plt.title('Training and Validation Loss Curve')\n",
    "plt.show()\n"
   ]
  }
 ],
 "metadata": {
  "kernelspec": {
   "display_name": "base",
   "language": "python",
   "name": "python3"
  },
  "language_info": {
   "codemirror_mode": {
    "name": "ipython",
    "version": 3
   },
   "file_extension": ".py",
   "mimetype": "text/x-python",
   "name": "python",
   "nbconvert_exporter": "python",
   "pygments_lexer": "ipython3",
   "version": "3.12.4"
  }
 },
 "nbformat": 4,
 "nbformat_minor": 2
}
